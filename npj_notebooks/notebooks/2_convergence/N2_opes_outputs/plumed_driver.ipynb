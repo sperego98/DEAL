{
 "cells": [
  {
   "cell_type": "markdown",
   "metadata": {},
   "source": [
    "## Create COLVAR with PLUMED"
   ]
  },
  {
   "cell_type": "code",
   "execution_count": 1,
   "metadata": {},
   "outputs": [],
   "source": [
    "import os\n",
    "os.environ['OPENBLAS_NUM_THREADS'] = '1'"
   ]
  },
  {
   "cell_type": "code",
   "execution_count": 6,
   "metadata": {},
   "outputs": [],
   "source": [
    "from ase.io import read\n",
    "import numpy as np"
   ]
  },
  {
   "cell_type": "markdown",
   "metadata": {},
   "source": [
    "Load data"
   ]
  },
  {
   "cell_type": "code",
   "execution_count": 3,
   "metadata": {},
   "outputs": [
    {
     "data": {
      "text/plain": [
       "3001"
      ]
     },
     "execution_count": 3,
     "metadata": {},
     "output_type": "execute_result"
    }
   ],
   "source": [
    "folder = './'\n",
    "traj_path = folder+'traj-std-ev10.xyz'\n",
    "\n",
    "traj = read(traj_path,index=':')\n",
    "len(traj)"
   ]
  },
  {
   "cell_type": "markdown",
   "metadata": {},
   "source": [
    "Create PLUMED input file"
   ]
  },
  {
   "cell_type": "code",
   "execution_count": 7,
   "metadata": {},
   "outputs": [],
   "source": [
    "from ase.data import covalent_radii as CR\n",
    "from ase.data import chemical_symbols as CS\n",
    "from itertools import combinations\n",
    "\n",
    "def write_plumed_coordination_input(atoms,save_path='plumed.dat',colvar_path='COLVAR'):\n",
    "    \"\"\" Write plumed input file to calculate coordination numbers between species\n",
    "        The parameters for the switching functions are calculated from covalent radii\n",
    "    \"\"\" \n",
    "\n",
    "    with open(save_path, 'w') as f:\n",
    "        # Get symbols\n",
    "        symbols = list(set(atoms.get_chemical_symbols()))\n",
    "        symbols = sorted(symbols,key=lambda s: CS.index(s),reverse=True)\n",
    "\n",
    "        print('UNITS LENGTH=A',file=f)\n",
    "\n",
    "        for symbol in symbols:\n",
    "            idxs = np.argwhere ( [ s == symbol for s in atoms.get_chemical_symbols()] )[:,0]\n",
    "            print(f'{symbol}: GROUP ATOMS={\",\".join( [str(i+1) for i in  idxs ])}',file=f )\n",
    "\n",
    "        for s1,s2 in combinations(symbols,2):\n",
    "            r_0 = (CR[CS.index(s1)]+CR[CS.index(s2)]) * 1.5\n",
    "            print(f'coord_{s1}-{s2}: COORDINATION GROUPA={s1} GROUPB={s2} R_0={r_0:.2f} NN=6 MM=12', file=f)\n",
    "\n",
    "        for symbol in symbols:\n",
    "            idxs = np.argwhere ( [ s == symbol for s in atoms.get_chemical_symbols()] )[:,0]\n",
    "            if len(idxs) == 2:\n",
    "                print(f'dist_{symbol}-{symbol}: DISTANCE ATOMS={idxs[0]+1},{idxs[1]+1}', file=f)                                                                                                                                                                \n",
    "\n",
    "        print(f'PRINT ARG=* STRIDE=1 FILE={colvar_path}',file=f)"
   ]
  },
  {
   "cell_type": "code",
   "execution_count": 8,
   "metadata": {},
   "outputs": [
    {
     "name": "stdout",
     "output_type": "stream",
     "text": [
      "UNITS LENGTH=A\n",
      "Co: GROUP ATOMS=2,4,6,8,10,12,14,16,18,20,22,24,26,28,30,32,34,36,38,40,42,44,46,48,50,52,54,56,58,60,62,64,66,68,70,72,74,76,78,80,82,84,86,88,90,92,94,96,98,100,102,104,106,108,110,112,114,116,118,120,122,124,126,128,130,132,134,136,138,140,142,144\n",
      "Fe: GROUP ATOMS=1,3,5,7,9,11,13,15,17,19,21,23,25,27,29,31,33,35,37,39,41,43,45,47,49,51,53,55,57,59,61,63,65,67,69,71,73,75,77,79,81,83,85,87,89,91,93,95,97,99,101,103,105,107,109,111,113,115,117,119,121,123,125,127,129,131,133,135,137,139,141,143\n",
      "N: GROUP ATOMS=145,146\n",
      "coord_Co-Fe: COORDINATION GROUPA=Co GROUPB=Fe R_0=3.87 NN=6 MM=12\n",
      "coord_Co-N: COORDINATION GROUPA=Co GROUPB=N R_0=2.96 NN=6 MM=12\n",
      "coord_Fe-N: COORDINATION GROUPA=Fe GROUPB=N R_0=3.05 NN=6 MM=12\n",
      "dist_N-N: DISTANCE ATOMS=145,146\n",
      "PRINT ARG=* STRIDE=1 FILE=.//COLVAR\n"
     ]
    }
   ],
   "source": [
    "plumed_path =f'{folder}/plumed.dat'\n",
    "colvar_path=f'{folder}/COLVAR'\n",
    "write_plumed_coordination_input(atoms=traj[0],\n",
    "                                save_path=plumed_path,\n",
    "                                colvar_path=colvar_path)\n",
    "\n",
    "!cat {plumed_path}"
   ]
  },
  {
   "cell_type": "markdown",
   "metadata": {},
   "source": [
    "Run PLUMED driver"
   ]
  },
  {
   "cell_type": "code",
   "execution_count": 11,
   "metadata": {},
   "outputs": [
    {
     "name": "stdout",
     "output_type": "stream",
     "text": [
      "plumed driver --plumed .//plumed.dat --ixyz ./traj-std-ev10.xyz --box 11.372,0.0,0.0,0.0,12.061827473480129,0.0,0.0,0.0,30.051522894566773 --length-units A\n"
     ]
    }
   ],
   "source": [
    "!plumed driver --plumed {plumed_path} --ixyz {traj_path} --box {','.join( str(i) for i in traj[0].get_cell().flatten() ) } --length-units A"
   ]
  }
 ],
 "metadata": {
  "kernelspec": {
   "display_name": "Python 3",
   "language": "python",
   "name": "python3"
  },
  "language_info": {
   "codemirror_mode": {
    "name": "ipython",
    "version": 3
   },
   "file_extension": ".py",
   "mimetype": "text/x-python",
   "name": "python",
   "nbconvert_exporter": "python",
   "pygments_lexer": "ipython3",
   "version": "3.9.18"
  }
 },
 "nbformat": 4,
 "nbformat_minor": 2
}
