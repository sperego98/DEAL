{
 "cells": [
  {
   "attachments": {},
   "cell_type": "markdown",
   "metadata": {},
   "source": [
    "# Data-Efficient Active Learning (DEAL) example"
   ]
  },
  {
   "cell_type": "markdown",
   "metadata": {},
   "source": [
    "## Imports"
   ]
  },
  {
   "cell_type": "code",
   "execution_count": 8,
   "metadata": {},
   "outputs": [],
   "source": [
    "import os\n",
    "os.environ['OPENBLAS_NUM_THREADS'] = '1'"
   ]
  },
  {
   "cell_type": "code",
   "execution_count": 2,
   "metadata": {},
   "outputs": [],
   "source": [
    "import numpy as np\n",
    "import sys\n",
    "from pathlib import Path\n",
    "import matplotlib.pyplot as plt\n",
    "import matplotlib as mpl\n",
    "import pandas as pd\n",
    "\n",
    "from ase import Atom\n",
    "from ase.io import read,write\n",
    "\n",
    "sys.path.append(\"../\")\n",
    "from deal.input import create_deal_input\n",
    "from deal.utils import average_along_cv,compute_histogram,plumed_to_pandas,paletteFessa,create_chemiscope_input"
   ]
  },
  {
   "cell_type": "markdown",
   "metadata": {},
   "source": [
    "## Load"
   ]
  },
  {
   "cell_type": "markdown",
   "metadata": {},
   "source": [
    "### Load trajectory"
   ]
  },
  {
   "cell_type": "code",
   "execution_count": 46,
   "metadata": {},
   "outputs": [
    {
     "data": {
      "text/plain": [
       "3001"
      ]
     },
     "execution_count": 46,
     "metadata": {},
     "output_type": "execute_result"
    }
   ],
   "source": [
    "folder = '../npj_notebooks/notebooks/2_convergence/N2_opes_outputs/'\n",
    "traj_path = folder+'traj-std-ev10.xyz'\n",
    "\n",
    "traj = read(traj_path,index=':')\n",
    "len(traj)"
   ]
  },
  {
   "cell_type": "markdown",
   "metadata": {},
   "source": [
    "### Load COLVAR (optional)"
   ]
  },
  {
   "cell_type": "code",
   "execution_count": null,
   "metadata": {},
   "outputs": [],
   "source": [
    "colvar_file = folder+'COLVAR'\n",
    "colvar = None\n",
    "\n",
    "if colvar_file is not None:\n",
    "    try:\n",
    "        colvar = plumed_to_pandas(colvar_file)\n",
    "\n",
    "        # save colvar into atoms.info\n",
    "        for i,atoms in enumerate(traj):\n",
    "            for col in colvar.columns:\n",
    "                atoms.info['colvar.'+col] = colvar[col].iloc[i]\n",
    "\n",
    "    except Exception as e:\n",
    "        print(e)\n",
    "\n",
    "colvar"
   ]
  },
  {
   "cell_type": "markdown",
   "metadata": {},
   "source": [
    "## Preprocessing"
   ]
  },
  {
   "cell_type": "markdown",
   "metadata": {},
   "source": [
    "Pre-selection via query-by-committee (optional)"
   ]
  },
  {
   "cell_type": "code",
   "execution_count": 12,
   "metadata": {},
   "outputs": [
    {
     "name": "stdout",
     "output_type": "stream",
     "text": [
      "Preselection by uncertainty: 1743/3001 frames\n"
     ]
    }
   ],
   "source": [
    "uncertainty_key = 'force_std_comp_max' # key of array\n",
    "\n",
    "threshold = 0.09 # None\n",
    "max_threshold = 3*threshold\n",
    "\n",
    "if threshold is not None:\n",
    "    try:\n",
    "        # define uncertainty of a frame as the max uncertainty on force components\n",
    "        uncertainty = np.asarray([atoms.get_array(uncertainty_key).max() for atoms in traj])\n",
    "        # save it in atoms.info\n",
    "        for i,atoms in enumerate(traj):\n",
    "            atoms.info['uncertainty'] = uncertainty[i]\n",
    "            \n",
    "        preselection = ( uncertainty > threshold ) & ( uncertainty < max_threshold )\n",
    "\n",
    "        print(f'Preselection by uncertainty: {preselection.sum()}/{len(traj)} frames')\n",
    "\n",
    "    except Exception as e:\n",
    "        print('No preselection: uncertainty not found.')\n",
    "        preselection = np.ones(len(traj),dtype=bool)"
   ]
  },
  {
   "cell_type": "markdown",
   "metadata": {},
   "source": [
    "Shuffling (reccomended)"
   ]
  },
  {
   "cell_type": "code",
   "execution_count": 13,
   "metadata": {},
   "outputs": [
    {
     "name": "stdout",
     "output_type": "stream",
     "text": [
      "Shuffled\n"
     ]
    }
   ],
   "source": [
    "# shuffle trajectory\n",
    "shuffle = True\n",
    "seed = 42 \n",
    "\n",
    "idx = np.argwhere(preselection)[:,0]\n",
    "if shuffle:\n",
    "    np.random.seed(seed)\n",
    "    np.random.shuffle(idx)\n",
    "    print('Shuffled')\n",
    "\n",
    "traj_input = [traj[i] for i in idx]"
   ]
  },
  {
   "cell_type": "markdown",
   "metadata": {},
   "source": [
    "Write trajectory"
   ]
  },
  {
   "cell_type": "code",
   "execution_count": 14,
   "metadata": {},
   "outputs": [],
   "source": [
    "write('All_Data.xyz',traj_input)"
   ]
  },
  {
   "cell_type": "markdown",
   "metadata": {},
   "source": [
    "## DEAL selection "
   ]
  },
  {
   "cell_type": "markdown",
   "metadata": {},
   "source": [
    "#### Create input\n",
    "\n",
    "Paremeters:\n",
    "* `config_path`: file which contains the default values for descriptors etc.\n",
    "* `cutoff`: the cutoff for the construction of the local environments (can be a single value or a matrix )\n",
    "* `deal_threshold`: the threshold for selecting the new structures"
   ]
  },
  {
   "cell_type": "code",
   "execution_count": 15,
   "metadata": {},
   "outputs": [
    {
     "name": "stdout",
     "output_type": "stream",
     "text": [
      "[Errno 17] File exists: '../All_Data.xyz' -> './threshold-0.050/All_Data.xyz'\n",
      "[Errno 17] File exists: '../All_Data.xyz' -> './threshold-0.100/All_Data.xyz'\n",
      "[Errno 17] File exists: '../All_Data.xyz' -> './threshold-0.150/All_Data.xyz'\n"
     ]
    }
   ],
   "source": [
    "# set DEAL parameters\n",
    "cutoff = 5\n",
    "deal_thresholds = [0.05,0.1,0.15]\n",
    "\n",
    "for deal_threshold in deal_thresholds:\n",
    "    run_folder=f\"./threshold-{deal_threshold:.3f}/\"\n",
    "\n",
    "    create_deal_input('All_Data.xyz',\n",
    "                    folder=run_folder,\n",
    "                    config_path='../deal/configs/default.yaml',\n",
    "                    cutoff = cutoff,\n",
    "                    threshold = deal_threshold,\n",
    "                    copy_traj=False) # create a symbolic link in each folder "
   ]
  },
  {
   "cell_type": "markdown",
   "metadata": {},
   "source": [
    "### Run DEAL"
   ]
  },
  {
   "cell_type": "code",
   "execution_count": 9,
   "metadata": {},
   "outputs": [
    {
     "name": "stdout",
     "output_type": "stream",
     "text": [
      "cd ./threshold-0.050/ && sbatch ../../deal/configs/submit-deal.slurm && cd -\n",
      "cd ./threshold-0.100/ && sbatch ../../deal/configs/submit-deal.slurm && cd -\n",
      "cd ./threshold-0.150/ && sbatch ../../deal/configs/submit-deal.slurm && cd -\n"
     ]
    }
   ],
   "source": [
    "slurm_script = '../../deal/configs/submit-deal.slurm' # None to run locally\n",
    "\n",
    "for deal_threshold in deal_thresholds:\n",
    "    run_folder=f\"./threshold-{deal_threshold:.3f}/\"\n",
    "\n",
    "    if slurm_script is not None:\n",
    "        print(f\"cd {run_folder} && sbatch {slurm_script} && cd -\")\n",
    "    else: # execute locally\n",
    "        print(f\"cd {run_folder} && python ../../deal/deal.py input.yaml && cd -\")"
   ]
  },
  {
   "cell_type": "markdown",
   "metadata": {},
   "source": [
    "## Analyze"
   ]
  },
  {
   "cell_type": "code",
   "execution_count": 32,
   "metadata": {},
   "outputs": [
    {
     "name": "stdout",
     "output_type": "stream",
     "text": [
      "DEAL Selection\n",
      "Threshold 0.050: 294/1743 structures\n",
      "Threshold 0.100: 147/1743 structures\n",
      "Threshold 0.150: 92/1743 structures\n"
     ]
    }
   ],
   "source": [
    "deal_thresholds = [0.05,0.1,0.15]\n",
    "\n",
    "traj_deals = {}\n",
    "\n",
    "print('DEAL Selection')\n",
    "traj_all = read('All_Data.xyz',index=':')\n",
    "for deal_threshold in deal_thresholds:\n",
    "    run_folder=f\"threshold-{deal_threshold:.3f}/\"\n",
    "    traj = read(run_folder+'deal_selected.xyz',index=':')\n",
    "    traj_deals[deal_threshold] = traj\n",
    "    print(f'Threshold {deal_threshold:.3f}: {len(traj)}/{len(traj_all)} structures')\n",
    "\n",
    "colors = mpl.colormaps['fessa'](np.linspace(0, 1, len(traj_deals)))"
   ]
  },
  {
   "cell_type": "markdown",
   "metadata": {},
   "source": [
    "Selection curves"
   ]
  },
  {
   "cell_type": "code",
   "execution_count": 33,
   "metadata": {},
   "outputs": [
    {
     "data": {
      "text/plain": [
       "<matplotlib.legend.Legend at 0x7fa159483f40>"
      ]
     },
     "execution_count": 33,
     "metadata": {},
     "output_type": "execute_result"
    },
    {
     "data": {
      "image/png": "[encoded data removed]",
      "text/plain": [
       "<Figure size 640x480 with 1 Axes>"
      ]
     },
     "metadata": {},
     "output_type": "display_data"
    }
   ],
   "source": [
    "fig, ax = plt.subplots()\n",
    "\n",
    "for k,(deal_threshold,traj_deal) in enumerate(traj_deals.items()):\n",
    "    selected_ids = [ atoms.info['step'] for atoms in traj_deal ]\n",
    "    selection_curve = [np.sum(np.asarray(selected_ids)<=i) for i in range(len(traj_all))]\n",
    "    ax.plot(selection_curve,label=f'Deal-{deal_threshold}',linewidth=2.5,alpha=0.95, color=colors[k])\n",
    "\n",
    "ax.set_xlabel('Frame')\n",
    "ax.set_ylabel('# Selected')\n",
    "ax.legend(frameon=False)"
   ]
  },
  {
   "cell_type": "markdown",
   "metadata": {},
   "source": [
    "Histogram vs CVs"
   ]
  },
  {
   "cell_type": "code",
   "execution_count": 41,
   "metadata": {},
   "outputs": [
    {
     "name": "stdout",
     "output_type": "stream",
     "text": [
      "Available CVs: ['colvar.time', 'colvar.coord_Co-Fe', 'colvar.coord_Co-N', 'colvar.coord_Fe-N', 'colvar.dist_N-N', 'uncertainty']\n"
     ]
    },
    {
     "data": {
      "image/png": "[encoded data removed]",
      "text/plain": [
       "<Figure size 640x480 with 1 Axes>"
      ]
     },
     "metadata": {},
     "output_type": "display_data"
    }
   ],
   "source": [
    "print(\"Available CVs:\",[c for c in traj_all[0].info.keys() ])\n",
    "\n",
    "cv_name = 'colvar.dist_N-N'\n",
    "\n",
    "fig, ax = plt.subplots()\n",
    "cv_all = np.asarray([atoms.info[cv_name] for atoms in traj_all])\n",
    "bins_cv = np.linspace(cv_all.min(),cv_all.max(),15)\n",
    "x,h = compute_histogram(cv_all,bins=bins_cv)\n",
    "ax.bar(x,h,width=(x[1]-x[0])/1.5,label=f'Input ({len(traj_all)})',alpha=0.5,color='grey',zorder=0)\n",
    "#for xi,hi in zip(x,h):\n",
    "    #ax.text(xi,hi+5,f'{hi}', horizontalalignment= 'center', color='grey')\n",
    "\n",
    "for k,(deal_threshold,traj_deal) in enumerate(traj_deals.items()):\n",
    "    cv_deal = np.asarray([atoms.info[cv_name] for atoms in traj_deal])\n",
    "    x,h = compute_histogram(cv_deal,bins=bins_cv)\n",
    "    ax.bar(x,h,width=(x[1]-x[0])/1.5,label=f'Deal-{deal_threshold} ({len(traj_deal)})',alpha=0.8,color=colors[k],zorder=0)\n",
    "    #for xi,hi in zip(x,h):\n",
    "        #ax.text(xi-dx/5,hi+5,f'{hi}',color=colors[k])\n",
    "\n",
    "ax.set_xlabel(cv_name)\n",
    "ax.set_ylabel('Count')\n",
    "ax.legend(frameon=False)\n",
    "plt.show()"
   ]
  },
  {
   "cell_type": "markdown",
   "metadata": {},
   "source": [
    "View selection via chemiscope"
   ]
  },
  {
   "cell_type": "code",
   "execution_count": null,
   "metadata": {},
   "outputs": [],
   "source": [
    "import chemiscope\n",
    "\n",
    "deal_threshold = 0.1\n",
    "run_folder=f\"threshold-{deal_threshold:.3f}/\"\n",
    "\n",
    "## if the chemiscope file is not already generated it can be done with the following line\n",
    "#from deal.utils import create_chemiscope_input\n",
    "#chemiscope_input = create_chemiscope_input(trajectory = run_folder+'deal_selected.xyz',\n",
    "#                                           filename=run_folder+'deal_chemiscope.json.gz')\n",
    "\n",
    "chemiscope.show_input(f'{run_folder}/deal_chemiscope.json.gz')"
   ]
  }
 ],
 "metadata": {
  "kernelspec": {
   "display_name": "Python 3",
   "language": "python",
   "name": "python3"
  },
  "language_info": {
   "codemirror_mode": {
    "name": "ipython",
    "version": 3
   },
   "file_extension": ".py",
   "mimetype": "text/x-python",
   "name": "python",
   "nbconvert_exporter": "python",
   "pygments_lexer": "ipython3",
   "version": "3.9.18"
  },
  "orig_nbformat": 4
 },
 "nbformat": 4,
 "nbformat_minor": 2
}
